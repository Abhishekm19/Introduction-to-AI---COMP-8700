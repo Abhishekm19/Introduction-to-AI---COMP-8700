{
  "nbformat": 4,
  "nbformat_minor": 0,
  "metadata": {
    "colab": {
      "provenance": [],
      "include_colab_link": true
    },
    "kernelspec": {
      "name": "python3",
      "display_name": "Python 3"
    },
    "language_info": {
      "name": "python"
    }
  },
  "cells": [
    {
      "cell_type": "markdown",
      "metadata": {
        "id": "view-in-github",
        "colab_type": "text"
      },
      "source": [
        "<a href=\"https://colab.research.google.com/github/Abhishekm19/Introduction-to-AI---COMP-8700/blob/main/Assignment%20Qs%20-%205.ipynb\" target=\"_parent\"><img src=\"https://colab.research.google.com/assets/colab-badge.svg\" alt=\"Open In Colab\"/></a>"
      ]
    },
    {
      "cell_type": "markdown",
      "source": [
        "With Sideways Moves"
      ],
      "metadata": {
        "id": "ObVzKrjFtYCF"
      }
    },
    {
      "cell_type": "code",
      "execution_count": null,
      "metadata": {
        "colab": {
          "base_uri": "https://localhost:8080/"
        },
        "id": "7UizbgtMOhau",
        "outputId": "4edc4f85-4d04-4e56-908c-a621940ced82"
      },
      "outputs": [
        {
          "output_type": "stream",
          "name": "stdout",
          "text": [
            "Success rate: 0.304\n",
            "Failure rate: 0.696\n",
            "Average steps when succeeding: 4.753289473684211\n",
            "Average steps when failing: 5.699712643678161\n"
          ]
        }
      ],
      "source": [
        "import random\n",
        "\n",
        "def random_state():\n",
        "    return random.sample(range(8), 8)\n",
        "\n",
        "def evaluate_state(state):\n",
        "    # Heuristic...\n",
        "    conflicts = 0\n",
        "    for i in range(8):\n",
        "        for j in range(i+1, 8):\n",
        "            if state[i] == state[j] or abs(i - j) == abs(state[i] - state[j]):\n",
        "                conflicts += 1\n",
        "    return conflicts\n",
        "\n",
        "def steepest_ascent_hill_climbing_with_sideways(max_sideways_moves=3):\n",
        "    success_count = 0\n",
        "    fail_count = 0\n",
        "    success_steps = 0\n",
        "    fail_steps = 0\n",
        "\n",
        "    for _ in range(1000):\n",
        "        state = random_state()\n",
        "        steps = 0\n",
        "        sideways_moves = 0\n",
        "\n",
        "        while True:\n",
        "            current_value = evaluate_state(state)\n",
        "\n",
        "            if current_value == 0:\n",
        "                success_count += 1\n",
        "                success_steps += steps\n",
        "                break  # Success\n",
        "\n",
        "            neighbors = []\n",
        "            for i in range(8):\n",
        "                for j in range(8):\n",
        "                    if j != state[i]:\n",
        "                        neighbor = state[:]\n",
        "                        neighbor[i] = j\n",
        "                        neighbors.append(neighbor)\n",
        "\n",
        "            best_neighbor = min(neighbors, key=evaluate_state)\n",
        "\n",
        "            if evaluate_state(best_neighbor) >= current_value:\n",
        "                if sideways_moves < max_sideways_moves:\n",
        "                    sideways_moves += 1\n",
        "                else:\n",
        "                    fail_count += 1\n",
        "                    fail_steps += steps\n",
        "                    break  # Stuck after reaching the maximum sideways moves\n",
        "\n",
        "            state = best_neighbor\n",
        "            steps += 1\n",
        "\n",
        "    if success_count > 0:\n",
        "        success_steps = success_steps / success_count\n",
        "\n",
        "    return success_count, fail_count, success_steps, fail_steps\n",
        "\n",
        "success_count, fail_count, success_steps, fail_steps = steepest_ascent_hill_climbing_with_sideways()\n",
        "\n",
        "print(\"Success rate:\", success_count / (success_count + fail_count))\n",
        "print(\"Failure rate:\", fail_count / (success_count + fail_count))\n",
        "print(\"Average steps when succeeding:\", success_steps)\n",
        "print(\"Average steps when failing:\", fail_steps / fail_count)\n"
      ]
    },
    {
      "cell_type": "markdown",
      "source": [
        "Without Sideways Moves"
      ],
      "metadata": {
        "id": "zBwZ8KpwtcVy"
      }
    },
    {
      "cell_type": "code",
      "source": [
        "import random\n",
        "\n",
        "def random_state():\n",
        "    return random.sample(range(8), 8)\n",
        "\n",
        "def evaluate_state(state):\n",
        "    # Heuristic...\n",
        "    conflicts = 0\n",
        "    for i in range(8):\n",
        "        for j in range(i+1, 8):\n",
        "            if state[i] == state[j] or abs(i - j) == abs(state[i] - state[j]):\n",
        "                conflicts += 1\n",
        "    return conflicts\n",
        "\n",
        "def steepest_ascent_hill_climbing():\n",
        "    state = random_state()\n",
        "    steps = 0\n",
        "\n",
        "    while True:\n",
        "        current_value = evaluate_state(state)\n",
        "\n",
        "        if current_value == 0:\n",
        "            return steps  # Success\n",
        "\n",
        "        neighbors = []\n",
        "        for i in range(8):\n",
        "            for j in range(8):\n",
        "                if j != state[i]:\n",
        "                    neighbor = state[:]\n",
        "                    neighbor[i] = j\n",
        "                    neighbors.append(neighbor)\n",
        "\n",
        "        best_neighbor = min(neighbors, key=evaluate_state)\n",
        "\n",
        "        if evaluate_state(best_neighbor) >= current_value:\n",
        "            return steps  # Stuck\n",
        "\n",
        "        state = best_neighbor\n",
        "        steps += 1\n",
        "\n",
        "success_count = 0\n",
        "fail_count = 0\n",
        "success_steps = 0\n",
        "fail_steps = 0\n",
        "\n",
        "for _ in range(1000):\n",
        "    steps = steepest_ascent_hill_climbing()\n",
        "    if steps == 0:\n",
        "        success_count += 1\n",
        "    else:\n",
        "        fail_count += 1\n",
        "        fail_steps += steps\n",
        "\n",
        "if success_count > 0:\n",
        "    success_steps = success_steps / success_count\n",
        "\n",
        "print(\"Success rate:\", success_count / 1000)\n",
        "print(\"Average steps when succeeding:\", success_steps)\n",
        "print(\"Average steps when failing:\", fail_steps / fail_count)\n"
      ],
      "metadata": {
        "colab": {
          "base_uri": "https://localhost:8080/"
        },
        "id": "DubtJSSfOnHN",
        "outputId": "f161a955-c8ba-4867-9637-f45218681613"
      },
      "execution_count": null,
      "outputs": [
        {
          "output_type": "stream",
          "name": "stdout",
          "text": [
            "Success rate: 0.131\n",
            "Average steps when succeeding: 0.0\n",
            "Average steps when failing: 2.6386651323360186\n"
          ]
        }
      ]
    }
  ]
}